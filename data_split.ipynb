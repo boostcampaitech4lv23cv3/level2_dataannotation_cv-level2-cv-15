{
 "cells": [
  {
   "cell_type": "code",
   "execution_count": 1,
   "id": "6a3f83a2-b905-4561-a24b-be87585fc36e",
   "metadata": {},
   "outputs": [],
   "source": [
    "import json\n",
    "import numpy as np\n",
    "from sklearn.model_selection import StratifiedGroupKFold\n",
    "from collections import defaultdict"
   ]
  },
  {
   "cell_type": "code",
   "execution_count": 2,
   "id": "d5f63126-1b68-4c77-b28d-30cfe195ea59",
   "metadata": {},
   "outputs": [],
   "source": [
    "# annotation = {train.json dataset file 경로}\n",
    "annotation = '/opt/ml/input/data/ICDAR17_Korean/ufo/train.json'\n",
    "\n",
    "with open(annotation) as f: \n",
    "    data = json.load(f)"
   ]
  },
  {
   "cell_type": "code",
   "execution_count": 21,
   "id": "2c69ef00-43b4-40ea-b490-8aebc355a1dd",
   "metadata": {},
   "outputs": [],
   "source": [
    "file_list = os.listdir('/opt/ml/input/data/ICDAR17_Korean/images')"
   ]
  },
  {
   "cell_type": "code",
   "execution_count": 26,
   "id": "81a6441b-1cca-47a7-b98e-fdc5015fd5c5",
   "metadata": {},
   "outputs": [],
   "source": [
    "file_list = [filelist for filelist in file_list if os.path.splitext(filelist)[1] == \".jpg\"]"
   ]
  },
  {
   "cell_type": "code",
   "execution_count": 30,
   "id": "b9082a33-4120-4e93-b7ba-3175cb7487e2",
   "metadata": {},
   "outputs": [
    {
     "data": {
      "text/plain": [
       "536"
      ]
     },
     "execution_count": 30,
     "metadata": {},
     "output_type": "execute_result"
    }
   ],
   "source": [
    "len(file_list)"
   ]
  },
  {
   "cell_type": "code",
   "execution_count": 56,
   "id": "120ffcac-8caa-4938-8242-230c75fdec57",
   "metadata": {},
   "outputs": [],
   "source": [
    "get_id = {\"ko\":0, \"en\":1}\n",
    "get_category = [\"ko\", \"en\"]"
   ]
  },
  {
   "cell_type": "code",
   "execution_count": 51,
   "id": "cf7238c4-b906-44b5-ba2a-765690ed9b94",
   "metadata": {},
   "outputs": [
    {
     "name": "stdout",
     "output_type": "stream",
     "text": [
      "TRAIN: [0 0 0 0 0 0 3 3 3 3]\n",
      "  [1 1 1 1 0 0 0 0 0 0]\n",
      " TEST: [1 1 1 1 1 1 2 2 6 6]\n",
      "  [0 0 0 1 1 1 1 0 0 0]\n",
      "TRAIN: [0 0 0 0 0 0 1 1 1 1]\n",
      "  [1 1 1 1 0 0 0 0 0 1]\n",
      " TEST: [ 7  7  7 12 12 12 16 16 16 16]\n",
      "  [1 1 0 0 0 0 0 0 0 0]\n",
      "TRAIN: [0 0 0 0 0 0 1 1 1 1]\n",
      "  [1 1 1 1 0 0 0 0 0 1]\n",
      " TEST: [5 8 8 8 8 8 8 8 8 8]\n",
      "  [0 0 0 0 0 0 0 1 1 1]\n",
      "TRAIN: [1 1 1 1 1 1 2 2 3 3]\n",
      "  [0 0 0 1 1 1 1 0 0 0]\n",
      " TEST: [ 0  0  0  0  0  0 14 14 14 14]\n",
      "  [1 1 1 1 0 0 0 0 1 0]\n",
      "TRAIN: [0 0 0 0 0 0 1 1 1 1]\n",
      "  [1 1 1 1 0 0 0 0 0 1]\n",
      " TEST: [3 3 3 3 3 3 3 3 3 3]\n",
      "  [0 0 0 0 0 0 0 0 1 0]\n"
     ]
    }
   ],
   "source": [
    "var = [(idx, get_id[data[\"images\"][file][\"words\"][i]['language'][0]]) for idx, file in enumerate(file_list) for i in data[\"images\"][file][\"words\"]]\n",
    "\n",
    "X = np.ones((len(var),1))                   # 각 ananotation 의 index\n",
    "y = np.array([v[1] for v in var])           # cateogry_id 모음\n",
    "groups = np.array([v[0] for v in var])      # image_id 모음\n",
    "\n",
    "\n",
    "cv = StratifiedGroupKFold(n_splits=5, shuffle=True, random_state=41)\n",
    "\n",
    "for train_idx, val_idx in cv.split(X, y, groups):\n",
    "    print(\"TRAIN:\", groups[train_idx][:10]) # image_id\n",
    "    print(\" \", y[train_idx][:10])           # category_id\n",
    "    print(\" TEST:\", groups[val_idx][:10])\n",
    "    print(\" \", y[val_idx][:10])"
   ]
  },
  {
   "cell_type": "code",
   "execution_count": 43,
   "id": "3cd3499e-6f92-4393-b7b9-5c649eb7944a",
   "metadata": {},
   "outputs": [],
   "source": [
    "from collections import Counter\n",
    "import pandas as pd"
   ]
  },
  {
   "cell_type": "code",
   "execution_count": 52,
   "id": "4cd58cec-ddd9-4acf-b914-583fba63ec41",
   "metadata": {},
   "outputs": [],
   "source": [
    "def get_distribution(y):\n",
    "    y_distr = Counter(y)\n",
    "    y_vals_sum = sum(y_distr.values())\n",
    "\n",
    "    return [f'{y_distr[i]/y_vals_sum:.2%}' for i in range(np.max(y) +1)]"
   ]
  },
  {
   "cell_type": "code",
   "execution_count": 53,
   "id": "c2351d80-ddec-4349-9880-68198e729ff9",
   "metadata": {},
   "outputs": [],
   "source": [
    "distrs = [get_distribution(y)]\n",
    "index = ['training set']"
   ]
  },
  {
   "cell_type": "code",
   "execution_count": 60,
   "id": "a856caad-2596-4d7e-b6b7-9f6eb22b0fbe",
   "metadata": {},
   "outputs": [],
   "source": [
    "for fold_ind, (train_idx, val_idx) in enumerate(cv.split(X, y, groups)):\n",
    "    train_y, val_y = y[train_idx], y[val_idx]\n",
    "    train_gr, val_gr = groups[train_idx], groups[val_idx]\n",
    "\n",
    "    assert len(set(train_gr) & set(val_gr)) == 0\n",
    "    \n",
    "    distrs.append(get_distribution(train_y))\n",
    "    distrs.append(get_distribution(val_y))\n",
    "    index.append(f'train - fold{fold_ind}')\n",
    "    index.append(f'val - fold{fold_ind}')"
   ]
  },
  {
   "cell_type": "code",
   "execution_count": 62,
   "id": "6032066d-5924-4c34-ad0c-927cde1ad6b3",
   "metadata": {},
   "outputs": [
    {
     "data": {
      "text/html": [
       "<div>\n",
       "<style scoped>\n",
       "    .dataframe tbody tr th:only-of-type {\n",
       "        vertical-align: middle;\n",
       "    }\n",
       "\n",
       "    .dataframe tbody tr th {\n",
       "        vertical-align: top;\n",
       "    }\n",
       "\n",
       "    .dataframe thead th {\n",
       "        text-align: right;\n",
       "    }\n",
       "</style>\n",
       "<table border=\"1\" class=\"dataframe\">\n",
       "  <thead>\n",
       "    <tr style=\"text-align: right;\">\n",
       "      <th></th>\n",
       "      <th>ko</th>\n",
       "      <th>en</th>\n",
       "    </tr>\n",
       "  </thead>\n",
       "  <tbody>\n",
       "    <tr>\n",
       "      <th>training set</th>\n",
       "      <td>72.24%</td>\n",
       "      <td>27.76%</td>\n",
       "    </tr>\n",
       "    <tr>\n",
       "      <th>train - fold0</th>\n",
       "      <td>72.51%</td>\n",
       "      <td>27.49%</td>\n",
       "    </tr>\n",
       "    <tr>\n",
       "      <th>val - fold0</th>\n",
       "      <td>71.22%</td>\n",
       "      <td>28.78%</td>\n",
       "    </tr>\n",
       "    <tr>\n",
       "      <th>train - fold1</th>\n",
       "      <td>72.65%</td>\n",
       "      <td>27.35%</td>\n",
       "    </tr>\n",
       "    <tr>\n",
       "      <th>val - fold1</th>\n",
       "      <td>70.26%</td>\n",
       "      <td>29.74%</td>\n",
       "    </tr>\n",
       "    <tr>\n",
       "      <th>train - fold2</th>\n",
       "      <td>74.32%</td>\n",
       "      <td>25.68%</td>\n",
       "    </tr>\n",
       "    <tr>\n",
       "      <th>val - fold2</th>\n",
       "      <td>66.22%</td>\n",
       "      <td>33.78%</td>\n",
       "    </tr>\n",
       "    <tr>\n",
       "      <th>train - fold3</th>\n",
       "      <td>71.31%</td>\n",
       "      <td>28.69%</td>\n",
       "    </tr>\n",
       "    <tr>\n",
       "      <th>val - fold3</th>\n",
       "      <td>76.76%</td>\n",
       "      <td>23.24%</td>\n",
       "    </tr>\n",
       "    <tr>\n",
       "      <th>train - fold4</th>\n",
       "      <td>70.60%</td>\n",
       "      <td>29.40%</td>\n",
       "    </tr>\n",
       "    <tr>\n",
       "      <th>val - fold4</th>\n",
       "      <td>78.97%</td>\n",
       "      <td>21.03%</td>\n",
       "    </tr>\n",
       "    <tr>\n",
       "      <th>train - fold1</th>\n",
       "      <td>72.51%</td>\n",
       "      <td>27.49%</td>\n",
       "    </tr>\n",
       "    <tr>\n",
       "      <th>val - fold1</th>\n",
       "      <td>71.22%</td>\n",
       "      <td>28.78%</td>\n",
       "    </tr>\n",
       "    <tr>\n",
       "      <th>train - fold2</th>\n",
       "      <td>72.65%</td>\n",
       "      <td>27.35%</td>\n",
       "    </tr>\n",
       "    <tr>\n",
       "      <th>val - fold2</th>\n",
       "      <td>70.26%</td>\n",
       "      <td>29.74%</td>\n",
       "    </tr>\n",
       "    <tr>\n",
       "      <th>train - fold3</th>\n",
       "      <td>74.32%</td>\n",
       "      <td>25.68%</td>\n",
       "    </tr>\n",
       "    <tr>\n",
       "      <th>val - fold3</th>\n",
       "      <td>66.22%</td>\n",
       "      <td>33.78%</td>\n",
       "    </tr>\n",
       "    <tr>\n",
       "      <th>train - fold4</th>\n",
       "      <td>71.31%</td>\n",
       "      <td>28.69%</td>\n",
       "    </tr>\n",
       "    <tr>\n",
       "      <th>val - fold4</th>\n",
       "      <td>76.76%</td>\n",
       "      <td>23.24%</td>\n",
       "    </tr>\n",
       "    <tr>\n",
       "      <th>train - fold5</th>\n",
       "      <td>70.60%</td>\n",
       "      <td>29.40%</td>\n",
       "    </tr>\n",
       "    <tr>\n",
       "      <th>val - fold5</th>\n",
       "      <td>78.97%</td>\n",
       "      <td>21.03%</td>\n",
       "    </tr>\n",
       "    <tr>\n",
       "      <th>train - fold0</th>\n",
       "      <td>72.51%</td>\n",
       "      <td>27.49%</td>\n",
       "    </tr>\n",
       "    <tr>\n",
       "      <th>val - fold0</th>\n",
       "      <td>71.22%</td>\n",
       "      <td>28.78%</td>\n",
       "    </tr>\n",
       "    <tr>\n",
       "      <th>train - fold1</th>\n",
       "      <td>72.65%</td>\n",
       "      <td>27.35%</td>\n",
       "    </tr>\n",
       "    <tr>\n",
       "      <th>val - fold1</th>\n",
       "      <td>70.26%</td>\n",
       "      <td>29.74%</td>\n",
       "    </tr>\n",
       "    <tr>\n",
       "      <th>train - fold2</th>\n",
       "      <td>74.32%</td>\n",
       "      <td>25.68%</td>\n",
       "    </tr>\n",
       "    <tr>\n",
       "      <th>val - fold2</th>\n",
       "      <td>66.22%</td>\n",
       "      <td>33.78%</td>\n",
       "    </tr>\n",
       "    <tr>\n",
       "      <th>train - fold3</th>\n",
       "      <td>71.31%</td>\n",
       "      <td>28.69%</td>\n",
       "    </tr>\n",
       "    <tr>\n",
       "      <th>val - fold3</th>\n",
       "      <td>76.76%</td>\n",
       "      <td>23.24%</td>\n",
       "    </tr>\n",
       "    <tr>\n",
       "      <th>train - fold4</th>\n",
       "      <td>70.60%</td>\n",
       "      <td>29.40%</td>\n",
       "    </tr>\n",
       "    <tr>\n",
       "      <th>val - fold4</th>\n",
       "      <td>78.97%</td>\n",
       "      <td>21.03%</td>\n",
       "    </tr>\n",
       "  </tbody>\n",
       "</table>\n",
       "</div>"
      ],
      "text/plain": [
       "                   ko      en\n",
       "training set   72.24%  27.76%\n",
       "train - fold0  72.51%  27.49%\n",
       "val - fold0    71.22%  28.78%\n",
       "train - fold1  72.65%  27.35%\n",
       "val - fold1    70.26%  29.74%\n",
       "train - fold2  74.32%  25.68%\n",
       "val - fold2    66.22%  33.78%\n",
       "train - fold3  71.31%  28.69%\n",
       "val - fold3    76.76%  23.24%\n",
       "train - fold4  70.60%  29.40%\n",
       "val - fold4    78.97%  21.03%\n",
       "train - fold1  72.51%  27.49%\n",
       "val - fold1    71.22%  28.78%\n",
       "train - fold2  72.65%  27.35%\n",
       "val - fold2    70.26%  29.74%\n",
       "train - fold3  74.32%  25.68%\n",
       "val - fold3    66.22%  33.78%\n",
       "train - fold4  71.31%  28.69%\n",
       "val - fold4    76.76%  23.24%\n",
       "train - fold5  70.60%  29.40%\n",
       "val - fold5    78.97%  21.03%\n",
       "train - fold0  72.51%  27.49%\n",
       "val - fold0    71.22%  28.78%\n",
       "train - fold1  72.65%  27.35%\n",
       "val - fold1    70.26%  29.74%\n",
       "train - fold2  74.32%  25.68%\n",
       "val - fold2    66.22%  33.78%\n",
       "train - fold3  71.31%  28.69%\n",
       "val - fold3    76.76%  23.24%\n",
       "train - fold4  70.60%  29.40%\n",
       "val - fold4    78.97%  21.03%"
      ]
     },
     "execution_count": 62,
     "metadata": {},
     "output_type": "execute_result"
    }
   ],
   "source": [
    "pd.DataFrame(distrs, index=index, columns = [get_category[i] for i in range(np.max(y) + 1)])"
   ]
  },
  {
   "cell_type": "code",
   "execution_count": 63,
   "id": "5325dfe1-34ab-4b3e-8a44-2e97def7703d",
   "metadata": {},
   "outputs": [],
   "source": [
    "# annotation = {dataset 경로/K-fold}\n",
    "output_filename = \"/opt/ml/input/data/ICDAR17_Korean/ufo/K-fold\""
   ]
  },
  {
   "cell_type": "code",
   "execution_count": 65,
   "id": "99eb3d7a-1d36-4422-ba63-aad4e2e85135",
   "metadata": {},
   "outputs": [
    {
     "name": "stdout",
     "output_type": "stream",
     "text": [
      "Split Done !\n"
     ]
    }
   ],
   "source": [
    "for idx, (train_idx, val_idx) in enumerate(cv.split(X, y, groups)):\n",
    "    train_images, val_images = dict(), dict()\n",
    "    train_annotations, val_annotations = [], []\n",
    "    for i in groups[train_idx]: # image_id\n",
    "        train_images[file_list[i]] = data[\"images\"][file_list[i]].copy()\n",
    "    for i in groups[val_idx]:   # image_id\n",
    "        val_images[file_list[i]] = data[\"images\"][file_list[i]].copy()\n",
    "\n",
    "    train_split = {\n",
    "            \"images\": train_images\n",
    "        }\n",
    "\n",
    "    val_split = {\n",
    "            \"images\": val_images\n",
    "        }\n",
    "    \n",
    "    output_files = []\n",
    "    for split_type, split in zip([\"train\", \"val\"], [train_split, val_split]):\n",
    "        output_files.append(output_filename + f\"_{split_type}{idx+1}.json\")\n",
    "        with open(output_files[-1], \"w\") as f:\n",
    "            json.dump(split, f, indent=2)\n",
    "\n",
    "print(\"Split Done !\")\n"
   ]
  },
  {
   "cell_type": "code",
   "execution_count": null,
   "id": "bd36212e-e3e8-4214-8c0e-ecdb13f2b578",
   "metadata": {},
   "outputs": [],
   "source": []
  }
 ],
 "metadata": {
  "kernelspec": {
   "display_name": "Python 3 (ipykernel)",
   "language": "python",
   "name": "python3"
  },
  "language_info": {
   "codemirror_mode": {
    "name": "ipython",
    "version": 3
   },
   "file_extension": ".py",
   "mimetype": "text/x-python",
   "name": "python",
   "nbconvert_exporter": "python",
   "pygments_lexer": "ipython3",
   "version": "3.8.5"
  }
 },
 "nbformat": 4,
 "nbformat_minor": 5
}
