{
 "cells": [
  {
   "cell_type": "code",
   "execution_count": 1,
   "metadata": {},
   "outputs": [],
   "source": [
    "import json\n",
    "import numpy as np\n",
    "import os.path as osp"
   ]
  },
  {
   "cell_type": "code",
   "execution_count": 2,
   "metadata": {},
   "outputs": [],
   "source": [
    "dir_path = '/opt/ml/input/data/ICDAR_17_19/ufo'\n",
    "# dir_path = '/opt/ml/input/data/ICDAR_17_19/ufo'\n",
    "train_annotations = ['17_K-fold_train1.json', '19_K-fold_train1.json']\n",
    "val_annotations = ['17_K-fold_val1.json', '19_K-fold_val1.json']\n",
    "\n"
   ]
  },
  {
   "cell_type": "code",
   "execution_count": 4,
   "metadata": {},
   "outputs": [],
   "source": [
    "new_annotation_train = dict()\n",
    "new_annotation_train['images'] = dict()\n",
    "new_annotation_valid = dict()\n",
    "new_annotation_valid['images'] = dict()\n",
    "for annotation in train_annotations:\n",
    "    with open(osp.join(dir_path, annotation)) as f: data = json.load(f)\n",
    "    for image in data['images']:\n",
    "        new_annotation_train['images'][image] = data['images'][image]\n",
    "\n",
    "for annotation in val_annotations:\n",
    "    with open(osp.join(dir_path, annotation)) as f: data = json.load(f)\n",
    "    for image in data['images']:\n",
    "        new_annotation_valid['images'][image] = data['images'][image]"
   ]
  },
  {
   "cell_type": "code",
   "execution_count": 5,
   "metadata": {},
   "outputs": [
    {
     "name": "stdout",
     "output_type": "stream",
     "text": [
      "img_4199.jpg\n",
      "img_1141.jpg\n"
     ]
    }
   ],
   "source": [
    "for image in new_annotation_train['images']:\n",
    "    print(image)\n",
    "    break\n",
    "\n",
    "for image in new_annotation_valid['images']:\n",
    "    print(image)\n",
    "    break\n"
   ]
  },
  {
   "cell_type": "code",
   "execution_count": 6,
   "metadata": {},
   "outputs": [],
   "source": [
    "output_file_name_train = 'K-fold_train1_merged.json'\n",
    "output_file_name_valid = 'K-fold_val1_merged.json'\n",
    "with open(osp.join(dir_path, output_file_name_train), 'w') as f:\n",
    "    json.dump(new_annotation_train, f)\n",
    "\n",
    "with open(osp.join(dir_path, output_file_name_valid), 'w') as f:\n",
    "    json.dump(new_annotation_valid, f)"
   ]
  },
  {
   "cell_type": "code",
   "execution_count": null,
   "metadata": {},
   "outputs": [],
   "source": []
  }
 ],
 "metadata": {
  "kernelspec": {
   "display_name": "base",
   "language": "python",
   "name": "python3"
  },
  "language_info": {
   "codemirror_mode": {
    "name": "ipython",
    "version": 3
   },
   "file_extension": ".py",
   "mimetype": "text/x-python",
   "name": "python",
   "nbconvert_exporter": "python",
   "pygments_lexer": "ipython3",
   "version": "3.8.5"
  },
  "orig_nbformat": 4,
  "vscode": {
   "interpreter": {
    "hash": "d4d1e4263499bec80672ea0156c357c1ee493ec2b1c70f0acce89fc37c4a6abe"
   }
  }
 },
 "nbformat": 4,
 "nbformat_minor": 2
}
